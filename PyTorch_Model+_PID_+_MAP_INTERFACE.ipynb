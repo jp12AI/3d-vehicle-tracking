{
  "nbformat": 4,
  "nbformat_minor": 0,
  "metadata": {
    "colab": {
      "provenance": [],
      "authorship_tag": "ABX9TyO+mC3pk5RDFnDuM9dKfqR3",
      "include_colab_link": true
    },
    "kernelspec": {
      "name": "python3",
      "display_name": "Python 3"
    },
    "language_info": {
      "name": "python"
    }
  },
  "cells": [
    {
      "cell_type": "markdown",
      "metadata": {
        "id": "view-in-github",
        "colab_type": "text"
      },
      "source": [
        "<a href=\"https://colab.research.google.com/github/jp12AI/3d-vehicle-tracking/blob/master/PyTorch_Model%2B_PID_%2B_MAP_INTERFACE.ipynb\" target=\"_parent\"><img src=\"https://colab.research.google.com/assets/colab-badge.svg\" alt=\"Open In Colab\"/></a>"
      ]
    },
    {
      "cell_type": "code",
      "execution_count": null,
      "metadata": {
        "id": "8Wjq91iwAkU8",
        "colab": {
          "base_uri": "https://localhost:8080/",
          "height": 235
        },
        "outputId": "0f3735d5-790a-491d-c406-d8b55cb42712"
      },
      "outputs": [
        {
          "output_type": "error",
          "ename": "NameError",
          "evalue": "ignored",
          "traceback": [
            "\u001b[0;31m---------------------------------------------------------------------------\u001b[0m",
            "\u001b[0;31mNameError\u001b[0m                                 Traceback (most recent call last)",
            "\u001b[0;32m<ipython-input-2-6998177885a3>\u001b[0m in \u001b[0;36m<module>\u001b[0;34m\u001b[0m\n\u001b[1;32m     33\u001b[0m \u001b[0;34m\u001b[0m\u001b[0m\n\u001b[1;32m     34\u001b[0m \u001b[0;31m# Train the model\u001b[0m\u001b[0;34m\u001b[0m\u001b[0;34m\u001b[0m\u001b[0;34m\u001b[0m\u001b[0m\n\u001b[0;32m---> 35\u001b[0;31m \u001b[0;32mfor\u001b[0m \u001b[0mepoch\u001b[0m \u001b[0;32min\u001b[0m \u001b[0mrange\u001b[0m\u001b[0;34m(\u001b[0m\u001b[0mnum_epochs\u001b[0m\u001b[0;34m)\u001b[0m\u001b[0;34m:\u001b[0m\u001b[0;34m\u001b[0m\u001b[0;34m\u001b[0m\u001b[0m\n\u001b[0m\u001b[1;32m     36\u001b[0m     \u001b[0;32mfor\u001b[0m \u001b[0minputs\u001b[0m\u001b[0;34m,\u001b[0m \u001b[0mlabels\u001b[0m \u001b[0;32min\u001b[0m \u001b[0mtrain_loader\u001b[0m\u001b[0;34m:\u001b[0m\u001b[0;34m\u001b[0m\u001b[0;34m\u001b[0m\u001b[0m\n\u001b[1;32m     37\u001b[0m         \u001b[0minputs\u001b[0m \u001b[0;34m=\u001b[0m \u001b[0minputs\u001b[0m\u001b[0;34m.\u001b[0m\u001b[0mto\u001b[0m\u001b[0;34m(\u001b[0m\u001b[0mdevice\u001b[0m\u001b[0;34m)\u001b[0m\u001b[0;34m\u001b[0m\u001b[0;34m\u001b[0m\u001b[0m\n",
            "\u001b[0;31mNameError\u001b[0m: name 'num_epochs' is not defined"
          ]
        }
      ],
      "source": [
        "##code an e2e PyTorch AI Model in python suitable for self-driving car applications, that takes in input from cameras only \n",
        "import torch\n",
        "import torch.nn as nn\n",
        "import torch.optim as optim\n",
        "\n",
        "# Define the neural network architecture\n",
        "class SelfDrivingCarModel(nn.Module):\n",
        "    def __init__(self):\n",
        "        super(SelfDrivingCarModel, self).__init__()\n",
        "        self.conv1 = nn.Conv2d(3, 6, 5)  # 3 input channels (RGB), 6 output channels, 5x5 kernel\n",
        "        self.pool = nn.MaxPool2d(2, 2)  # 2x2 max pooling\n",
        "        self.conv2 = nn.Conv2d(6, 16, 5)\n",
        "        self.fc1 = nn.Linear(16 * 5 * 5, 120)  # fully-connected layer with 120 output units\n",
        "        self.fc2 = nn.Linear(120, 84)\n",
        "        self.fc3 = nn.Linear(84, 1)  # output layer with 1 output unit (for steering angle prediction)\n",
        "\n",
        "    def forward(self, x):\n",
        "        x = self.pool(F.relu(self.conv1(x)))\n",
        "        x = self.pool(F.relu(self.conv2(x)))\n",
        "        x = x.view(-1, 16 * 5 * 5)  # flatten the data for the fully-connected layers\n",
        "        x = F.relu(self.fc1(x))\n",
        "        x = F.relu(self.fc2(x))\n",
        "        x = self.fc3(x)\n",
        "        return x\n",
        "\n",
        "# Create an instance of the model and move it to the device\n",
        "device = torch.device(\"cuda\" if torch.cuda.is_available() else \"cpu\")\n",
        "model = SelfDrivingCarModel().to(device)\n",
        "\n",
        "# Define the loss function and optimizer\n",
        "criterion = nn.MSELoss()\n",
        "optimizer = optim.SGD(model.parameters(), lr=0.001, momentum=0.9)\n",
        "\n",
        "# Train the model\n",
        "for epoch in range(num_epochs):\n",
        "    for inputs, labels in train_loader:\n",
        "        inputs = inputs.to(device)\n",
        "        labels = labels.to(device)\n",
        "        optimizer.zero_grad()\n",
        "        outputs = model(inputs)\n",
        "        loss = criterion(outputs, labels)\n",
        "        loss.backward()\n",
        "        optimizer.step()\n",
        "\n",
        "# Test the model\n",
        "with torch.no_grad():\n",
        "    correct = 0\n",
        "    total = 0\n",
        "    for inputs, labels in test_loader:\n",
        "        inputs = inputs.to(device)\n",
        "        labels = labels.to(device)\n",
        "        outputs = model(inputs)\n",
        "        _, predicted = torch.max(outputs.data, 1)\n",
        "        total += labels.size(0)\n",
        "        correct += (predicted == labels).sum().item()\n",
        "    print(f'Accuracy of the model on the test set: {100 * correct / total}%')\n"
      ]
    },
    {
      "cell_type": "code",
      "source": [
        "##Code a PID controller that takes in inputs from self driving model and then outputs to a motor that moves the steering wheel \n",
        "import time\n",
        "\n",
        "class PIDController:\n",
        "    def __init__(self, kp, ki, kd, max_output, min_output):\n",
        "        self.kp = kp  # Proportional gain\n",
        "        self.ki = ki  # Integral gain\n",
        "        self.kd = kd  # Derivative gain\n",
        "        self.max_output = max_output  # Maximum output value\n",
        "        self.min_output = min_output  # Minimum output value\n",
        "        self.last_error = 0  # Last error value\n",
        "        self.integral = 0  # Integral of errors over time\n",
        "\n",
        "    def control(self, error, dt):\n",
        "        \"\"\"\n",
        "        Calculates the control output based on the given error and time delta.\n",
        "        \"\"\"\n",
        "        # Calculate the proportional term\n",
        "        p = self.kp * error\n",
        "        \n",
        "        # Calculate the integral term\n",
        "        self.integral += error * dt\n",
        "        i = self.ki * self.integral\n",
        "        \n",
        "        # Calculate the derivative term\n",
        "        d = self.kd * (error - self.last_error) / dt\n",
        "        \n",
        "        # Calculate the control output\n",
        "        output = p + i + d\n",
        "        \n",
        "        # Update the last error value\n",
        "        self.last_error = error\n",
        "        \n",
        "        # Bound the output value between the minimum and maximum output values\n",
        "        if output > self.max_output:\n",
        "            output = self.max_output\n",
        "        elif output < self.min_output:\n",
        "            output = self.min_output\n",
        "        \n",
        "        return output\n",
        "\n",
        "# Create an instance of the PIDController class\n",
        "pid_controller = PIDController(kp=1.0, ki=0.1, kd=0.01, max_output=1.0, min_output=-1.0)\n",
        "\n",
        "# Main loop\n",
        "while True:\n",
        "    # Get the current error value from the self-driving car model\n",
        "    error = self_driving_car_model.get_error()\n",
        "\n",
        "    # Calculate the control output based on the error\n",
        "    control_output = pid_controller.control(error, dt=0.1)\n",
        "\n",
        "    # Set the control output to the motor that moves the steering wheel\n",
        "    steering_motor.set_output(control_output)\n",
        "    \n",
        "    time.sleep(0.1)  # Sleep for 0.1 seconds\n"
      ],
      "metadata": {
        "id": "73tqR36bAvP4",
        "colab": {
          "base_uri": "https://localhost:8080/",
          "height": 235
        },
        "outputId": "61782758-105c-431b-cc68-01e8150e062c"
      },
      "execution_count": null,
      "outputs": [
        {
          "output_type": "error",
          "ename": "NameError",
          "evalue": "ignored",
          "traceback": [
            "\u001b[0;31m---------------------------------------------------------------------------\u001b[0m",
            "\u001b[0;31mNameError\u001b[0m                                 Traceback (most recent call last)",
            "\u001b[0;32m<ipython-input-3-8bc1beb1f723>\u001b[0m in \u001b[0;36m<module>\u001b[0;34m\u001b[0m\n\u001b[1;32m     46\u001b[0m \u001b[0;32mwhile\u001b[0m \u001b[0;32mTrue\u001b[0m\u001b[0;34m:\u001b[0m\u001b[0;34m\u001b[0m\u001b[0;34m\u001b[0m\u001b[0m\n\u001b[1;32m     47\u001b[0m     \u001b[0;31m# Get the current error value from the self-driving car model\u001b[0m\u001b[0;34m\u001b[0m\u001b[0;34m\u001b[0m\u001b[0;34m\u001b[0m\u001b[0m\n\u001b[0;32m---> 48\u001b[0;31m     \u001b[0merror\u001b[0m \u001b[0;34m=\u001b[0m \u001b[0mself_driving_car_model\u001b[0m\u001b[0;34m.\u001b[0m\u001b[0mget_error\u001b[0m\u001b[0;34m(\u001b[0m\u001b[0;34m)\u001b[0m\u001b[0;34m\u001b[0m\u001b[0;34m\u001b[0m\u001b[0m\n\u001b[0m\u001b[1;32m     49\u001b[0m \u001b[0;34m\u001b[0m\u001b[0m\n\u001b[1;32m     50\u001b[0m     \u001b[0;31m# Calculate the control output based on the error\u001b[0m\u001b[0;34m\u001b[0m\u001b[0;34m\u001b[0m\u001b[0;34m\u001b[0m\u001b[0m\n",
            "\u001b[0;31mNameError\u001b[0m: name 'self_driving_car_model' is not defined"
          ]
        }
      ]
    },
    {
      "cell_type": "code",
      "source": [
        "pip install mapbox"
      ],
      "metadata": {
        "colab": {
          "base_uri": "https://localhost:8080/"
        },
        "id": "NUrurWTMyOTM",
        "outputId": "5adcfbd1-6313-45b5-866c-f4619b18b935"
      },
      "execution_count": null,
      "outputs": [
        {
          "output_type": "stream",
          "name": "stdout",
          "text": [
            "Looking in indexes: https://pypi.org/simple, https://us-python.pkg.dev/colab-wheels/public/simple/\n",
            "Collecting mapbox\n",
            "  Downloading mapbox-0.18.1-py2.py3-none-any.whl (30 kB)\n",
            "Requirement already satisfied: uritemplate>=2.0 in /usr/local/lib/python3.8/dist-packages (from mapbox) (3.0.1)\n",
            "Requirement already satisfied: python-dateutil>=2.5.0 in /usr/local/lib/python3.8/dist-packages (from mapbox) (2.8.2)\n",
            "Collecting iso3166\n",
            "  Downloading iso3166-2.1.1-py3-none-any.whl (9.8 kB)\n",
            "Requirement already satisfied: cachecontrol in /usr/local/lib/python3.8/dist-packages (from mapbox) (0.12.11)\n",
            "Requirement already satisfied: requests in /usr/local/lib/python3.8/dist-packages (from mapbox) (2.23.0)\n",
            "Collecting polyline>=1.3.1\n",
            "  Downloading polyline-1.4.0-py2.py3-none-any.whl (4.4 kB)\n",
            "Collecting boto3>=1.4\n",
            "  Downloading boto3-1.26.32-py3-none-any.whl (132 kB)\n",
            "\u001b[K     |████████████████████████████████| 132 kB 46.9 MB/s \n",
            "\u001b[?25hCollecting jmespath<2.0.0,>=0.7.1\n",
            "  Downloading jmespath-1.0.1-py3-none-any.whl (20 kB)\n",
            "Collecting s3transfer<0.7.0,>=0.6.0\n",
            "  Downloading s3transfer-0.6.0-py3-none-any.whl (79 kB)\n",
            "\u001b[K     |████████████████████████████████| 79 kB 8.5 MB/s \n",
            "\u001b[?25hCollecting botocore<1.30.0,>=1.29.32\n",
            "  Downloading botocore-1.29.32-py3-none-any.whl (10.3 MB)\n",
            "\u001b[K     |████████████████████████████████| 10.3 MB 32.4 MB/s \n",
            "\u001b[?25hCollecting urllib3<1.27,>=1.25.4\n",
            "  Downloading urllib3-1.26.13-py2.py3-none-any.whl (140 kB)\n",
            "\u001b[K     |████████████████████████████████| 140 kB 62.5 MB/s \n",
            "\u001b[?25hRequirement already satisfied: six>=1.8.0 in /usr/local/lib/python3.8/dist-packages (from polyline>=1.3.1->mapbox) (1.15.0)\n",
            "Requirement already satisfied: msgpack>=0.5.2 in /usr/local/lib/python3.8/dist-packages (from cachecontrol->mapbox) (1.0.4)\n",
            "Requirement already satisfied: chardet<4,>=3.0.2 in /usr/local/lib/python3.8/dist-packages (from requests->mapbox) (3.0.4)\n",
            "  Downloading urllib3-1.25.11-py2.py3-none-any.whl (127 kB)\n",
            "\u001b[K     |████████████████████████████████| 127 kB 51.4 MB/s \n",
            "\u001b[?25hRequirement already satisfied: certifi>=2017.4.17 in /usr/local/lib/python3.8/dist-packages (from requests->mapbox) (2022.12.7)\n",
            "Requirement already satisfied: idna<3,>=2.5 in /usr/local/lib/python3.8/dist-packages (from requests->mapbox) (2.10)\n",
            "Installing collected packages: urllib3, jmespath, botocore, s3transfer, polyline, iso3166, boto3, mapbox\n",
            "  Attempting uninstall: urllib3\n",
            "    Found existing installation: urllib3 1.24.3\n",
            "    Uninstalling urllib3-1.24.3:\n",
            "      Successfully uninstalled urllib3-1.24.3\n",
            "Successfully installed boto3-1.26.32 botocore-1.29.32 iso3166-2.1.1 jmespath-1.0.1 mapbox-0.18.1 polyline-1.4.0 s3transfer-0.6.0 urllib3-1.25.11\n"
          ]
        }
      ]
    },
    {
      "cell_type": "code",
      "source": [
        "##code a navigation interface using mapbox api suitable for PID self driving cars\n",
        "import mapbox\n",
        "\n",
        "# Replace YOUR_ACCESS_TOKEN with your Mapbox access token\n",
        "mapbox_api = mapbox.Client(access_token=\"YOUR_ACCESS_TOKEN\")\n",
        "\n",
        "class NavigationInterface:\n",
        "    def __init__(self, start_lat, start_long, end_lat, end_long):\n",
        "        # Store start and end coordinates\n",
        "        self.start_lat = start_lat\n",
        "        self.start_long = start_long\n",
        "        self.end_lat = end_lat\n",
        "        self.end_long = end_long\n",
        "\n",
        "        # Get route from Mapbox API\n",
        "        route = mapbox_api.directions([(start_long, start_lat), (end_long, end_lat)])\n",
        "        self.route_coordinates = route[\"routes\"][0][\"geometry\"][\"coordinates\"]\n",
        "        self.current_index = 0\n",
        "\n",
        "    def get_next_waypoint(self):\n",
        "        # Return next waypoint in route\n",
        "        if self.current_index < len(self.route_coordinates):\n",
        "            waypoint = self.route_coordinates[self.current_index]\n",
        "            self.current_index += 1\n",
        "            return waypoint\n",
        "        else:\n",
        "            return None\n",
        "\n",
        "# Example usage\n",
        "nav = NavigationInterface(start_lat=37.78, start_long=-122.41, end_lat=37.79, end_long=-122.42)\n",
        "waypoint = nav.get_next_waypoint()\n",
        "print(waypoint)  # Output: [-122.41, 37.78]\n",
        "##This NavigationInterface class uses the Mapbox Directions API to retrieve a route between the start and end coordinates, and stores the route coordinates in a list. The get_next_waypoint function retrieves the next waypoint in the route and increments the current_index variable to keep track of the current position in the route.\n",
        "##You can then use the waypoint returned by get_next_waypoint as a setpoint for your PID controller to control the self-driving car's navigation."
      ],
      "metadata": {
        "colab": {
          "base_uri": "https://localhost:8080/",
          "height": 235
        },
        "id": "CXt_VAVjw1wd",
        "outputId": "a00e8ff0-c422-4664-fe28-ae35eb3e3c25"
      },
      "execution_count": null,
      "outputs": [
        {
          "output_type": "error",
          "ename": "AttributeError",
          "evalue": "ignored",
          "traceback": [
            "\u001b[0;31m---------------------------------------------------------------------------\u001b[0m",
            "\u001b[0;31mAttributeError\u001b[0m                            Traceback (most recent call last)",
            "\u001b[0;32m<ipython-input-6-57e774962fea>\u001b[0m in \u001b[0;36m<module>\u001b[0;34m\u001b[0m\n\u001b[1;32m      3\u001b[0m \u001b[0;34m\u001b[0m\u001b[0m\n\u001b[1;32m      4\u001b[0m \u001b[0;31m# Replace YOUR_ACCESS_TOKEN with your Mapbox access token\u001b[0m\u001b[0;34m\u001b[0m\u001b[0;34m\u001b[0m\u001b[0;34m\u001b[0m\u001b[0m\n\u001b[0;32m----> 5\u001b[0;31m \u001b[0mmapbox_api\u001b[0m \u001b[0;34m=\u001b[0m \u001b[0mmapbox\u001b[0m\u001b[0;34m.\u001b[0m\u001b[0mClient\u001b[0m\u001b[0;34m(\u001b[0m\u001b[0maccess_token\u001b[0m\u001b[0;34m=\u001b[0m\u001b[0;34m\"YOUR_ACCESS_TOKEN\"\u001b[0m\u001b[0;34m)\u001b[0m\u001b[0;34m\u001b[0m\u001b[0;34m\u001b[0m\u001b[0m\n\u001b[0m\u001b[1;32m      6\u001b[0m \u001b[0;34m\u001b[0m\u001b[0m\n\u001b[1;32m      7\u001b[0m \u001b[0;32mclass\u001b[0m \u001b[0mNavigationInterface\u001b[0m\u001b[0;34m:\u001b[0m\u001b[0;34m\u001b[0m\u001b[0;34m\u001b[0m\u001b[0m\n",
            "\u001b[0;31mAttributeError\u001b[0m: module 'mapbox' has no attribute 'Client'"
          ]
        }
      ]
    }
  ]
}